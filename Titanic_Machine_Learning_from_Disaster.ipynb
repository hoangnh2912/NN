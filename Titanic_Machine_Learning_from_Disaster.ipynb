{
  "nbformat": 4,
  "nbformat_minor": 0,
  "metadata": {
    "colab": {
      "name": "Titanic - Machine Learning from Disaster.ipynb",
      "provenance": [],
      "collapsed_sections": []
    },
    "kernelspec": {
      "name": "python3",
      "display_name": "Python 3"
    },
    "language_info": {
      "name": "python"
    }
  },
  "cells": [
    {
      "cell_type": "code",
      "metadata": {
        "id": "G7a8bXGx1xbj",
        "colab": {
          "base_uri": "https://localhost:8080/"
        },
        "outputId": "7e3ec140-7c2a-4be1-b104-6b87b898f234"
      },
      "source": [
        "#@title Download the dataset and extract\n",
        "%cd /content/\n",
        "!gdown --id 1iOHX9MIcBDJvHYuyBGqNi-0vposQqFxw\n",
        "!unzip titanic.zip\n",
        "%rm -rf titanic.zip"
      ],
      "execution_count": null,
      "outputs": [
        {
          "output_type": "stream",
          "name": "stdout",
          "text": [
            "/content\n",
            "Downloading...\n",
            "From: https://drive.google.com/uc?id=1iOHX9MIcBDJvHYuyBGqNi-0vposQqFxw\n",
            "To: /content/titanic.zip\n",
            "100% 34.9k/34.9k [00:00<00:00, 59.1MB/s]\n",
            "Archive:  titanic.zip\n",
            "  inflating: gender_submission.csv   \n",
            "  inflating: test.csv                \n",
            "  inflating: train.csv               \n"
          ]
        }
      ]
    },
    {
      "cell_type": "code",
      "metadata": {
        "id": "C167aJZ-_CFV"
      },
      "source": [
        "#@title import necessary library\n",
        "import pandas as pd\n",
        "import matplotlib.pyplot as plt\n",
        "import os\n",
        "from matplotlib.pyplot import figure\n",
        "from IPython.display import clear_output\n",
        "import numpy as np\n",
        "from sklearn.impute import KNNImputer\n",
        "from sklearn.model_selection import train_test_split\n",
        "from tensorflow.keras.models import Sequential,load_model\n",
        "from tensorflow.keras.layers import Dense,InputLayer\n",
        "from tensorflow.keras.utils import plot_model,model_to_dot\n",
        "from tensorflow.keras.callbacks import EarlyStopping\n",
        "from sklearn.preprocessing import MinMaxScaler\n",
        "from keras import backend as K\n",
        "figsize = (6,4)"
      ],
      "execution_count": null,
      "outputs": []
    },
    {
      "cell_type": "code",
      "metadata": {
        "colab": {
          "base_uri": "https://localhost:8080/",
          "height": 298
        },
        "id": "4gKVHdC91_bg",
        "outputId": "1353788c-8133-4a90-c318-6d77657b2e99"
      },
      "source": [
        "#@title Read dataset\n",
        "train = pd.read_csv('train.csv')\n",
        "drop_columns = ['PassengerId','Name','Cabin','Ticket']\n",
        "# drop_columns = ['PassengerId','Name','Ticket']\n",
        "print('Train shape',train.shape)\n",
        "train.drop(columns=drop_columns,inplace=True)\n",
        "columns = train.columns\n",
        "list_nan = list(train.isna().sum())\n",
        "plt.figure(figsize=(8,4))\n",
        "plt.bar(columns,list_nan,0.5)\n",
        "plt.title('Missing value by each feature')\n",
        "plt.savefig('missing.png')\n",
        "plt.show()"
      ],
      "execution_count": null,
      "outputs": [
        {
          "output_type": "stream",
          "name": "stdout",
          "text": [
            "Train shape (891, 12)\n"
          ]
        },
        {
          "output_type": "display_data",
          "data": {
            "image/png": "[encoded data removed]",
            "text/plain": [
              "<Figure size 576x288 with 1 Axes>"
            ]
          },
          "metadata": {
            "needs_background": "light"
          }
        }
      ]
    },
    {
      "cell_type": "code",
      "metadata": {
        "id": "v8lH5TyROXuS"
      },
      "source": [
        "X = train[columns]\n",
        "X.drop(columns=['Survived'],inplace=True)\n",
        "Y = train['Survived']\n",
        "c_factorize = columns[1:]\n",
        "for c in c_factorize:\n",
        "  val = train[c]\n",
        "  X[c] = val.factorize()[0]\n",
        "\n",
        "X = X.to_numpy()\n",
        "Y = Y.to_numpy()\n"
      ],
      "execution_count": null,
      "outputs": []
    },
    {
      "cell_type": "code",
      "metadata": {
        "colab": {
          "base_uri": "https://localhost:8080/",
          "height": 265
        },
        "id": "-pMB5sxcS-BU",
        "outputId": "319508ee-81c7-4066-ab83-a3a3f0270384"
      },
      "source": [
        "def imputDataFrame(pd):\n",
        "  imputer = KNNImputer(n_neighbors=2, weights=\"uniform\",missing_values=-1)\n",
        "  return imputer.fit_transform(pd)\n",
        "\n",
        "X = imputDataFrame(X)\n",
        "df_temp = pd.DataFrame(X)\n",
        "df_temp = list(df_temp[df_temp==-1].sum())\n",
        "plt.figure(figsize=figsize)\n",
        "plt.bar(columns[1:],df_temp,0.5)\n",
        "plt.show()\n",
        "del df_temp\n",
        "X = MinMaxScaler().fit_transform(X)"
      ],
      "execution_count": null,
      "outputs": [
        {
          "output_type": "display_data",
          "data": {
            "image/png": "[encoded data removed]",
            "text/plain": [
              "<Figure size 432x288 with 1 Axes>"
            ]
          },
          "metadata": {
            "needs_background": "light"
          }
        }
      ]
    },
    {
      "cell_type": "code",
      "metadata": {
        "id": "pHE_tg6_hymC",
        "colab": {
          "base_uri": "https://localhost:8080/",
          "height": 227
        },
        "outputId": "87cf8d9a-8b17-4962-a1b1-3ffb62a4d904"
      },
      "source": [
        "col_used = list(columns[1:])\n",
        "X_axis = np.arange(len(col_used))\n",
        "\n",
        "y_sur = []\n",
        "y_not = []\n",
        "\n",
        "for idx,c in enumerate(col_used):\n",
        "    df_dup = train[[c,'Survived']]\n",
        "    n,s = df_dup[df_dup.duplicated()]['Survived'].value_counts()\n",
        "    y_sur.append(s)\n",
        "    y_not.append(n)\n",
        "plt.figure(figsize=(5,3))\n",
        "plt.bar(X_axis - 0.1, y_sur, 0.2, label = 'Survived')\n",
        "plt.bar(X_axis + 0.1, y_not, 0.2, label = 'Not Survived')\n",
        "plt.xticks(X_axis, col_used)\n",
        "plt.title(\"Number of survived or not in each category\")\n",
        "plt.legend()\n",
        "plt.savefig('chart_sur_or_not.png',bbox_inches=\"tight\")\n",
        "plt.show()\n"
      ],
      "execution_count": null,
      "outputs": [
        {
          "output_type": "display_data",
          "data": {
            "image/png": "[encoded data removed]",
            "text/plain": [
              "<Figure size 360x216 with 1 Axes>"
            ]
          },
          "metadata": {
            "needs_background": "light"
          }
        }
      ]
    },
    {
      "cell_type": "code",
      "metadata": {
        "colab": {
          "base_uri": "https://localhost:8080/",
          "height": 227
        },
        "id": "MBk0TlYAAF7O",
        "outputId": "c4298398-648e-4c29-fb26-5ed4030b7da7"
      },
      "source": [
        "unique_train = []\n",
        "for c in col_used:\n",
        "  l = len(train[c].unique())\n",
        "  # print(c,l)\n",
        "  unique_train.append(l)\n",
        "\n",
        "plt.figure(figsize=(5,3))\n",
        "plt.bar(col_used,unique_train,0.4)\n",
        "plt.title('Number of unique value in each category')\n",
        "plt.savefig('chart_unique.png',bbox_inches=\"tight\")\n",
        "plt.show()"
      ],
      "execution_count": null,
      "outputs": [
        {
          "output_type": "display_data",
          "data": {
            "image/png": "[encoded data removed]",
            "text/plain": [
              "<Figure size 360x216 with 1 Axes>"
            ]
          },
          "metadata": {
            "needs_background": "light"
          }
        }
      ]
    },
    {
      "cell_type": "code",
      "metadata": {
        "id": "d8cNTFwV4IMN"
      },
      "source": [
        "X_train, X_test, Y_train, Y_test = train_test_split(X, Y, test_size=0.3, random_state=42)\n",
        "X_test, X_val, Y_test, Y_val = train_test_split(X_test, Y_test, test_size=1/3, random_state=42)"
      ],
      "execution_count": null,
      "outputs": []
    },
    {
      "cell_type": "code",
      "metadata": {
        "colab": {
          "base_uri": "https://localhost:8080/"
        },
        "id": "z3y2_rZFIEKe",
        "outputId": "e8b40bba-40fd-4b1c-945f-ef2291ef1b8d"
      },
      "source": [
        "print(\"Traning\")\n",
        "print('X_train',X_train.shape)\n",
        "print('Y_train',Y_train.shape)\n",
        "print(\"Test\")\n",
        "print('X_test',X_test.shape)\n",
        "print('Y_test',Y_test.shape)\n",
        "print(\"Validation\")\n",
        "print('X_val',X_val.shape)\n",
        "print('Y_val',Y_val.shape)"
      ],
      "execution_count": null,
      "outputs": [
        {
          "output_type": "stream",
          "name": "stdout",
          "text": [
            "Traning\n",
            "X_train (623, 7)\n",
            "Y_train (623,)\n",
            "Test\n",
            "X_test (178, 7)\n",
            "Y_test (178,)\n",
            "Validation\n",
            "X_val (90, 7)\n",
            "Y_val (90,)\n"
          ]
        }
      ]
    },
    {
      "cell_type": "code",
      "metadata": {
        "id": "Zw9ftrrniHLg"
      },
      "source": [
        "def recall_m(y_true, y_pred):\n",
        "    true_positives = K.sum(K.round(K.clip(y_true * y_pred, 0, 1)))\n",
        "    possible_positives = K.sum(K.round(K.clip(y_true, 0, 1)))\n",
        "    recall = true_positives / (possible_positives + K.epsilon())\n",
        "    return recall\n",
        "\n",
        "def precision_m(y_true, y_pred):\n",
        "    true_positives = K.sum(K.round(K.clip(y_true * y_pred, 0, 1)))\n",
        "    predicted_positives = K.sum(K.round(K.clip(y_pred, 0, 1)))\n",
        "    precision = true_positives / (predicted_positives + K.epsilon())\n",
        "    return precision\n",
        "\n",
        "def f1_m(y_true, y_pred):\n",
        "    precision = precision_m(y_true, y_pred)\n",
        "    recall = recall_m(y_true, y_pred)\n",
        "    return 2*((precision*recall)/(precision+recall+K.epsilon()))"
      ],
      "execution_count": null,
      "outputs": []
    },
    {
      "cell_type": "code",
      "metadata": {
        "id": "V1_-V-suH4lK",
        "colab": {
          "base_uri": "https://localhost:8080/"
        },
        "outputId": "2c6af63b-54c3-4eac-88ee-bfa818eaf47c"
      },
      "source": [
        "input_shape = X.shape[1]\n",
        "model = Sequential()\n",
        "model.add(InputLayer(input_shape=input_shape))\n",
        "model.add(Dense(8, activation='relu'))\n",
        "model.add(Dense(8, activation='relu'))\n",
        "model.add(Dense(8, activation='relu'))\n",
        "model.add(Dense(1, activation='sigmoid'))\n",
        "model.predict(np.array([X_train[1]]))\n",
        "# plot_model(model,show_shapes=True)"
      ],
      "execution_count": null,
      "outputs": [
        {
          "output_type": "execute_result",
          "data": {
            "text/plain": [
              "array([[0.49429214]], dtype=float32)"
            ]
          },
          "metadata": {},
          "execution_count": 41
        }
      ]
    },
    {
      "cell_type": "code",
      "metadata": {
        "id": "MMLkd_FV_dmj"
      },
      "source": [
        "model.compile(loss='binary_crossentropy', optimizer='adam', metrics=['accuracy',f1_m,precision_m, recall_m])\n",
        "history = model.fit(X_train, Y_train,validation_data=(X_val,Y_val), epochs=100, batch_size=16)"
      ],
      "execution_count": null,
      "outputs": []
    },
    {
      "cell_type": "code",
      "metadata": {
        "id": "x7GnDJvTdkIU"
      },
      "source": [
        "plt.plot(history.history['accuracy'])\n",
        "plt.plot(history.history['val_accuracy'])\n",
        "plt.title('accuracy')\n",
        "plt.ylabel('accuracy')\n",
        "plt.xlabel('epoch')\n",
        "plt.legend(['train', 'val'], loc='upper left')\n",
        "plt.savefig('accuracy.png',bbox_inches=\"tight\")\n",
        "plt.show()"
      ],
      "execution_count": null,
      "outputs": []
    },
    {
      "cell_type": "code",
      "metadata": {
        "id": "44ccd5VAdc2O"
      },
      "source": [
        "plt.plot(history.history['loss'])\n",
        "plt.plot(history.history['val_loss'])\n",
        "plt.title('loss')\n",
        "plt.ylabel('loss')\n",
        "plt.xlabel('epoch')\n",
        "plt.legend(['train', 'val'], loc='upper left')\n",
        "plt.savefig('loss.png',bbox_inches=\"tight\")\n",
        "plt.show()"
      ],
      "execution_count": null,
      "outputs": []
    },
    {
      "cell_type": "code",
      "metadata": {
        "id": "5ekh_6q1ivuv"
      },
      "source": [
        "plt.plot(history.history['f1_m'])\n",
        "plt.plot(history.history['val_f1_m'])\n",
        "plt.title('F1')\n",
        "plt.ylabel('f1')\n",
        "plt.xlabel('epoch')\n",
        "plt.legend(['f1', 'val_f1'], loc='upper right')\n",
        "plt.savefig('f1.png',bbox_inches=\"tight\")\n",
        "plt.show()"
      ],
      "execution_count": null,
      "outputs": []
    },
    {
      "cell_type": "code",
      "metadata": {
        "id": "HgAKITvwj-hn"
      },
      "source": [
        "plt.plot(history.history['precision_m'])\n",
        "plt.plot(history.history['val_precision_m'])\n",
        "plt.title('precision')\n",
        "plt.ylabel('precision')\n",
        "plt.xlabel('epoch')\n",
        "plt.legend(['precision', 'val_precision'], loc='upper right')\n",
        "plt.savefig('precision.png',bbox_inches=\"tight\")\n",
        "\n",
        "plt.show()"
      ],
      "execution_count": null,
      "outputs": []
    },
    {
      "cell_type": "code",
      "metadata": {
        "id": "ad1aTTt6kC-T"
      },
      "source": [
        "plt.plot(history.history['recall_m'])\n",
        "plt.plot(history.history['val_recall_m'])\n",
        "plt.title('recall')\n",
        "plt.ylabel('recall')\n",
        "plt.xlabel('epoch')\n",
        "plt.legend(['recall', 'val_recall'], loc='upper right')\n",
        "plt.savefig('recall.png',bbox_inches=\"tight\")\n",
        "\n",
        "plt.show()"
      ],
      "execution_count": null,
      "outputs": []
    },
    {
      "cell_type": "code",
      "metadata": {
        "id": "tPgSk7_1G7az"
      },
      "source": [
        "loss,accuracy,f1,precision,recall = model.evaluate(X_test,Y_test)\n",
        "print(\"model_relu\")\n",
        "print(\"loss:\",loss)\n",
        "print(\"accuracy:\",accuracy)\n",
        "print(\"f1:\",f1)\n",
        "print(\"precision:\",precision)\n",
        "print(\"recall:\",recall)"
      ],
      "execution_count": null,
      "outputs": []
    },
    {
      "cell_type": "code",
      "metadata": {
        "id": "DS54MhBA18cz"
      },
      "source": [
        "# model.save('model.h5',save_format='h5')"
      ],
      "execution_count": null,
      "outputs": []
    }
  ]
}